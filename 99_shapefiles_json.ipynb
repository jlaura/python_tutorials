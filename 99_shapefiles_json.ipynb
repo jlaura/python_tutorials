{
 "metadata": {
  "name": ""
 },
 "nbformat": 3,
 "nbformat_minor": 0,
 "worksheets": [
  {
   "cells": [
    {
     "cell_type": "markdown",
     "metadata": {},
     "source": [
      "# Mapping\n",
      "\n",
      "- Shapefile to geojson\n",
      "- geojson to folium\n",
      "- base layer\n",
      "- choropleth"
     ]
    },
    {
     "cell_type": "markdown",
     "metadata": {},
     "source": [
      "The next set of four cells can be skipped if we do not have conectivity as the files are available locally. We include these cells for future reference."
     ]
    },
    {
     "cell_type": "code",
     "collapsed": false,
     "input": [
      "import os\n",
      "import json\n",
      "\n",
      "def shapefile_to_json(shp_path=None, json_out=None): \n",
      "    '''Write a shapefile to geoJSON via Ogre\n",
      "    \n",
      "    Make a HTTP POST request to the Ogre converter: \n",
      "    http://ogre.adc4gis.com/ to transform shapefiles\n",
      "    to geoJSON for Vincent.\n",
      "    \n",
      "    Parameters: \n",
      "    -----------\n",
      "    shp_path: string, default None\n",
      "        Path to zipped shapefiles. Must contain .shp, .dbf, and .shx. \n",
      "        .prj is optional\n",
      "    json_out: string, default None\n",
      "        Path to write geoJSON output. If None, will default to same\n",
      "        path as shp_path  \n",
      "        \n",
      "    Examples: \n",
      "    ---------\n",
      "    >>>shapefile_to_json(shp_path=r'countries.zip')      \n",
      "    \n",
      "    '''\n",
      "    import requests\n",
      "    url = r'http://ogre.adc4gis.com/convert'\n",
      "    shp_data = {'upload': open(shp_path, 'rb')}\n",
      "    print('Calling Ogre to perform shapefile to geoJSON conversion...')\n",
      "    try: \n",
      "        r = requests.post(url, files=shp_data)\n",
      "    except:\n",
      "        print(\"There was an error with the HTTP request\")\n",
      "        raise\n",
      "    r.raise_for_status()\n",
      "    if json_out: \n",
      "        path = '.'.join([name, 'json'])\n",
      "    else: \n",
      "        dir, zip = os.path.split(shp_path)\n",
      "        geoJSON = '.'.join([zip.split('.')[0], 'json'])\n",
      "        path = '/'.join([dir, geoJSON])\n",
      "        path = geoJSON\n",
      "    print('Writing to geoJSON. This may take some time if your shapefile'\n",
      "          ' is high resolution.')\n",
      "    with open(path, 'w') as f: \n",
      "        json.dump(r.json(), f, sort_keys=True, indent=4,\n",
      "                      separators=(',', ': '))\n",
      "    print \"GeoJSON file created at: %s\"%path"
     ],
     "language": "python",
     "metadata": {},
     "outputs": [],
     "prompt_number": 6
    },
    {
     "cell_type": "markdown",
     "metadata": {},
     "source": [
      "## Make sure that you create south.zip "
     ]
    },
    {
     "cell_type": "code",
     "collapsed": false,
     "input": [
      "!cd data\n",
      "!zip data/south data/south.shp data/south.dbf data/south.shx"
     ],
     "language": "python",
     "metadata": {},
     "outputs": [
      {
       "output_type": "stream",
       "stream": "stdout",
       "text": [
        "  adding: data/south.shp"
       ]
      },
      {
       "output_type": "stream",
       "stream": "stdout",
       "text": [
        " (deflated 69%)\r\n",
        "  adding: data/south.dbf"
       ]
      },
      {
       "output_type": "stream",
       "stream": "stdout",
       "text": [
        " (deflated 59%)\r\n",
        "  adding: data/south.shx (deflated 48%)\r\n"
       ]
      }
     ],
     "prompt_number": 15
    },
    {
     "cell_type": "code",
     "collapsed": false,
     "input": [
      "shapefile_to_json(shp_path='data/south.zip')"
     ],
     "language": "python",
     "metadata": {},
     "outputs": [
      {
       "output_type": "stream",
       "stream": "stdout",
       "text": [
        "Calling Ogre to perform shapefile to geoJSON conversion...\n",
        "Writing to geoJSON. This may take some time if your shapefile is high resolution."
       ]
      },
      {
       "output_type": "stream",
       "stream": "stdout",
       "text": [
        "\n",
        "GeoJSON file created at: south.json"
       ]
      },
      {
       "output_type": "stream",
       "stream": "stdout",
       "text": [
        "\n"
       ]
      }
     ],
     "prompt_number": 16
    },
    {
     "cell_type": "heading",
     "level": 2,
     "metadata": {},
     "source": [
      "Base layer for south"
     ]
    },
    {
     "cell_type": "code",
     "collapsed": false,
     "input": [
      "from IPython.display import HTML\n",
      "import folium\n",
      "\n",
      "#Function that shows the map - call this functionto redraw the map.\n",
      "def showmap(name):\n",
      "    sint = str(random.randint(0,10000))\n",
      "    out_file = name+\"_\"+sint+\".html\"\n",
      "    map_osm.create_map(path=out_file)\n",
      "    iframe = \"<iframe src=http://localhost:8015/%s width=1000 height=500></iframe>\"%out_file\n",
      "    print iframe\n",
      "    return HTML(iframe)\n",
      "\n",
      "map_osm = folium.Map(location=[33.7550, -84.3900], zoom_start=7)\n",
      "map_osm.geo_json(geo_path = 'south.json')\n",
      "map_osm.create_map(path='south_base.html')\n",
      "showmap('south_base.html')"
     ],
     "language": "python",
     "metadata": {},
     "outputs": [
      {
       "output_type": "stream",
       "stream": "stdout",
       "text": [
        "<iframe src=http://localhost:8015/south_base.html_8711.html width=1000 height=500></iframe>\n"
       ]
      },
      {
       "html": [
        "<iframe src=http://localhost:8015/south_base.html_8711.html width=1000 height=500></iframe>"
       ],
       "metadata": {},
       "output_type": "pyout",
       "prompt_number": 21,
       "text": [
        "<IPython.core.display.HTML at 0x105795210>"
       ]
      }
     ],
     "prompt_number": 21
    },
    {
     "cell_type": "markdown",
     "metadata": {},
     "source": [
      "see the result http://localhost:8015/south_base.html"
     ]
    }
   ],
   "metadata": {}
  }
 ]
}