{
 "cells": [
  {
   "cell_type": "markdown",
   "metadata": {},
   "source": [
    "###Installing Additional Packages\n",
    "\n",
    "This notebook covers the installation of the Geospatial Data Abstraction Library.  We will use this library as our primary file input and output mechanism."
   ]
  },
  {
   "cell_type": "code",
   "execution_count": 1,
   "metadata": {
    "collapsed": false
   },
   "outputs": [
    {
     "name": "stdout",
     "output_type": "stream",
     "text": [
      "Fetching package metadata: ....\n",
      "Solving package specifications: .\n",
      "Package plan for installation in environment /usgs/apps/anaconda:\n",
      "\n",
      "The following packages will be downloaded:\n",
      "\n",
      "    package                    |            build\n",
      "    ---------------------------|-----------------\n",
      "    system-5.8                 |                2         170 KB\n",
      "    hdf5-1.8.14                |                0         1.8 MB\n",
      "    libnetcdf-4.3.2            |                1         881 KB\n",
      "    conda-env-2.1.4            |           py27_0          15 KB\n",
      "    numpy-1.9.2                |           py27_0         7.8 MB\n",
      "    gdal-1.11.2                |       np19py27_0        40.3 MB\n",
      "    setuptools-15.0            |           py27_0         436 KB\n",
      "    conda-3.10.1               |           py27_0         164 KB\n",
      "    pip-6.1.1                  |           py27_0         1.4 MB\n",
      "    ------------------------------------------------------------\n",
      "                                           Total:        52.8 MB\n",
      "\n",
      "The following packages will be UPDATED:\n",
      "\n",
      "    conda:      3.10.0-py27_0     --> 3.10.1-py27_0     (soft-link)\n",
      "    conda-env:  2.1.3-py27_0      --> 2.1.4-py27_0      (soft-link)\n",
      "    gdal:       1.10.1-np18py27_2 --> 1.11.2-np19py27_0 (soft-link)\n",
      "    hdf5:       1.8.13-0          --> 1.8.14-0          (soft-link)\n",
      "    libnetcdf:  4.2.1.1-1         --> 4.3.2-1           (soft-link)\n",
      "    numpy:      1.9.0-py27_0      --> 1.9.2-py27_0      (soft-link)\n",
      "    openssl:    1.0.1h-1          --> 1.0.1k-1          (soft-link)\n",
      "    pip:        1.5.6-py27_0      --> 6.1.1-py27_0      (soft-link)\n",
      "    python:     2.7.8-1           --> 2.7.9-2           (soft-link)\n",
      "    requests:   2.4.1-py27_0      --> 2.6.0-py27_0      (soft-link)\n",
      "    setuptools: 5.8-py27_0        --> 15.0-py27_0       (soft-link)\n",
      "    sqlite:     3.8.4.1-0         --> 3.8.4.1-1         (soft-link)\n",
      "    system:     5.8-1             --> 5.8-2             (soft-link)\n",
      "    tk:         8.5.15-0          --> 8.5.18-0          (soft-link)\n",
      "    zlib:       1.2.7-0           --> 1.2.8-0           (soft-link)\n",
      "\n",
      "Error: Missing write permissions in: /usgs/apps/anaconda\n",
      "#\n",
      "# You don't appear to have the necessary permissions to install packages\n",
      "# into the install area '/usgs/apps/anaconda'.\n",
      "# However you can clone this environment into your home directory and\n",
      "# then make changes to it.\n",
      "# This may be done using the command:\n",
      "#\n",
      "# $ conda create -n my_root --clone=/usgs/apps/anaconda\n",
      "\n"
     ]
    }
   ],
   "source": [
    "!conda install gdal"
   ]
  },
  {
   "cell_type": "code",
   "execution_count": 5,
   "metadata": {
    "collapsed": false
   },
   "outputs": [
    {
     "ename": "ImportError",
     "evalue": "No module named 'osgeo'",
     "output_type": "error",
     "traceback": [
      "\u001b[1;31m---------------------------------------------------------------------------\u001b[0m",
      "\u001b[1;31mImportError\u001b[0m                               Traceback (most recent call last)",
      "\u001b[1;32m<ipython-input-5-a04b80bf4e65>\u001b[0m in \u001b[0;36m<module>\u001b[1;34m()\u001b[0m\n\u001b[1;32m----> 1\u001b[1;33m \u001b[1;32mfrom\u001b[0m \u001b[0mosgeo\u001b[0m \u001b[1;32mimport\u001b[0m \u001b[0mgdal\u001b[0m\u001b[1;33m\u001b[0m\u001b[0m\n\u001b[0m",
      "\u001b[1;31mImportError\u001b[0m: No module named 'osgeo'"
     ]
    }
   ],
   "source": [
    "from osgeo import gdal"
   ]
  },
  {
   "cell_type": "code",
   "execution_count": null,
   "metadata": {
    "collapsed": true
   },
   "outputs": [],
   "source": []
  }
 ],
 "metadata": {
  "kernelspec": {
   "display_name": "Python 3",
   "language": "python",
   "name": "python3"
  },
  "language_info": {
   "codemirror_mode": {
    "name": "ipython",
    "version": 3
   },
   "file_extension": ".py",
   "mimetype": "text/x-python",
   "name": "python",
   "nbconvert_exporter": "python",
   "pygments_lexer": "ipython3",
   "version": "3.4.3"
  }
 },
 "nbformat": 4,
 "nbformat_minor": 0
}
