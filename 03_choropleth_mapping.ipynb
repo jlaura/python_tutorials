{
 "metadata": {
  "name": ""
 },
 "nbformat": 3,
 "nbformat_minor": 0,
 "worksheets": [
  {
   "cells": [
    {
     "cell_type": "markdown",
     "metadata": {},
     "source": [
      "# Choropleth Mapping With Folium and PySAL"
     ]
    },
    {
     "cell_type": "markdown",
     "metadata": {},
     "source": [
      "____\n",
      "## Instructions for starting this notebook\n",
      "\n",
      "### Mac OS X\n",
      "In a terminal enter:\n",
      "\n",
      "    python -m SimpleHTTPServer 8015 &ipython notebook --pylab=inline\n",
      "\n",
      "\n",
      "### Windows\n",
      "\n",
      "Start two different powershells and in one powershell enter:\n",
      "\n",
      "    python -m SimpleHTTPServer 8015\n",
      "\n",
      "and in the second powershell enter:\n",
      "\n",
      "    ipython notebook --pylab=inline\n",
      "\n",
      "\n",
      "____\n"
     ]
    },
    {
     "cell_type": "code",
     "collapsed": false,
     "input": [
      "from IPython.display import HTML\n",
      "import folium\n",
      "import random\n",
      "import pandas as pd\n"
     ],
     "language": "python",
     "metadata": {},
     "outputs": [],
     "prompt_number": 1
    },
    {
     "cell_type": "heading",
     "level": 2,
     "metadata": {},
     "source": [
      "Base layer for south"
     ]
    },
    {
     "cell_type": "code",
     "collapsed": false,
     "input": [
      "import folium\n",
      "map_osm = folium.Map(location=[33.7550, -84.3900], zoom_start=7)\n",
      "map_osm.geo_json(geo_path = 'data/south.json')\n",
      "map_osm.create_map(path='south_base.html')"
     ],
     "language": "python",
     "metadata": {},
     "outputs": [],
     "prompt_number": 2
    },
    {
     "cell_type": "markdown",
     "metadata": {},
     "source": [
      "This creates the file on the hardrive which we can see in a browser: http://localhost:8015/south_base.html"
     ]
    },
    {
     "cell_type": "markdown",
     "metadata": {},
     "source": [
      "## Binding Attribute Data to the Map"
     ]
    },
    {
     "cell_type": "code",
     "collapsed": false,
     "input": [
      "import json\n",
      "\n",
      "f = open(r'data/south.json')\n",
      "q = json.load(f)\n",
      "f.close()"
     ],
     "language": "python",
     "metadata": {},
     "outputs": [],
     "prompt_number": 3
    },
    {
     "cell_type": "code",
     "collapsed": false,
     "input": [
      "q.keys()"
     ],
     "language": "python",
     "metadata": {},
     "outputs": [
      {
       "metadata": {},
       "output_type": "pyout",
       "prompt_number": 4,
       "text": [
        "[u'type', u'features']"
       ]
      }
     ],
     "prompt_number": 4
    },
    {
     "cell_type": "code",
     "collapsed": false,
     "input": [
      "features = q['features']\n",
      "len(features)"
     ],
     "language": "python",
     "metadata": {},
     "outputs": [
      {
       "metadata": {},
       "output_type": "pyout",
       "prompt_number": 5,
       "text": [
        "1412"
       ]
      }
     ],
     "prompt_number": 5
    },
    {
     "cell_type": "code",
     "collapsed": false,
     "input": [
      "feature_0 = features[0]"
     ],
     "language": "python",
     "metadata": {},
     "outputs": [],
     "prompt_number": 6
    },
    {
     "cell_type": "code",
     "collapsed": false,
     "input": [
      "feature_0"
     ],
     "language": "python",
     "metadata": {},
     "outputs": [
      {
       "metadata": {},
       "output_type": "pyout",
       "prompt_number": 7,
       "text": [
        "{u'geometry': {u'coordinates': [[[-80.6280517578125, 40.39815902709961],\n",
        "    [-80.60203552246094, 40.480472564697266],\n",
        "    [-80.62545776367188, 40.504398345947266],\n",
        "    [-80.6336441040039, 40.53913879394531],\n",
        "    [-80.6688232421875, 40.568214416503906],\n",
        "    [-80.66793060302734, 40.58207321166992],\n",
        "    [-80.63754272460938, 40.61391830444336],\n",
        "    [-80.61175537109375, 40.619998931884766],\n",
        "    [-80.57462310791016, 40.615909576416016],\n",
        "    [-80.52220916748047, 40.63713836669922],\n",
        "    [-80.52456665039062, 40.47871780395508],\n",
        "    [-80.52377319335938, 40.4029655456543],\n",
        "    [-80.6280517578125, 40.39815902709961]]],\n",
        "  u'type': u'Polygon'},\n",
        " u'properties': {u'BLK60': 3.839454752,\n",
        "  u'BLK70': 3.2554278095,\n",
        "  u'BLK80': 2.5607402642,\n",
        "  u'BLK90': 2.5572616581,\n",
        "  u'CNTY_FIPS': u'029',\n",
        "  u'COFIPS': 29.0,\n",
        "  u'DNL60': 6.1681225056,\n",
        "  u'DNL70': 6.1714993547,\n",
        "  u'DNL80': 6.1714631077,\n",
        "  u'DNL90': 6.0508978146,\n",
        "  u'DV60': 2.2779893943,\n",
        "  u'DV70': 2.5591397849,\n",
        "  u'DV80': 5.0619350519,\n",
        "  u'DV90': 7.2636377003,\n",
        "  u'FH60': 9.9812973718,\n",
        "  u'FH70': 7.8,\n",
        "  u'FH80': 9.7857968181,\n",
        "  u'FH90': 12.604551644,\n",
        "  u'FIPS': u'54029',\n",
        "  u'FIPSNO': 54029.0,\n",
        "  u'FP59': 9.6,\n",
        "  u'FP69': 5.9,\n",
        "  u'FP79': 6.5327526442,\n",
        "  u'FP89': 10.17311807,\n",
        "  u'GI59': 0.2236450331,\n",
        "  u'GI69': 0.2953773833,\n",
        "  u'GI79': 0.3322512119,\n",
        "  u'GI89': 0.3639335641,\n",
        "  u'HC60': 0.6666666667,\n",
        "  u'HC70': 1.6666666667,\n",
        "  u'HC80': 2.6666666667,\n",
        "  u'HC90': 0.3333333333,\n",
        "  u'HR60': 1.6828642349,\n",
        "  u'HR70': 4.1929776011,\n",
        "  u'HR80': 6.5977204876,\n",
        "  u'HR90': 0.9460827444,\n",
        "  u'MA60': 28.9,\n",
        "  u'MA70': 30.0,\n",
        "  u'MA80': 31.4,\n",
        "  u'MA90': 37.7,\n",
        "  u'MFIL59': 8.8410143105,\n",
        "  u'MFIL69': 9.2471543451,\n",
        "  u'MFIL79': 10.073356901,\n",
        "  u'MFIL89': 10.327970666,\n",
        "  u'NAME': u'Hancock',\n",
        "  u'PO60': 39615,\n",
        "  u'PO70': 39749,\n",
        "  u'PO80': 40418,\n",
        "  u'PO90': 35233,\n",
        "  u'POL60': 10.586963113,\n",
        "  u'POL70': 10.590339963,\n",
        "  u'POL80': 10.607030509,\n",
        "  u'POL90': 10.469738422,\n",
        "  u'PS60': 1.218684208,\n",
        "  u'PS70': 1.1368342185,\n",
        "  u'PS80': 1.0385705291,\n",
        "  u'PS90': 0.8964534429,\n",
        "  u'RD60': -1.394676863,\n",
        "  u'RD70': -1.307438562,\n",
        "  u'RD80': -1.159302086,\n",
        "  u'RD90': -0.399028376,\n",
        "  u'SOUTH': 1,\n",
        "  u'STATE_FIPS': u'54',\n",
        "  u'STATE_NAME': u'West Virginia',\n",
        "  u'STFIPS': 54.0,\n",
        "  u'UE60': 3.1,\n",
        "  u'UE70': 2.7,\n",
        "  u'UE80': 7.0763827919,\n",
        "  u'UE90': 6.8578070515},\n",
        " u'type': u'Feature'}"
       ]
      }
     ],
     "prompt_number": 7
    },
    {
     "cell_type": "code",
     "collapsed": false,
     "input": [],
     "language": "python",
     "metadata": {},
     "outputs": [],
     "prompt_number": 7
    },
    {
     "cell_type": "code",
     "collapsed": false,
     "input": [
      "import pandas as pd\n",
      "indices = []\n",
      "values = []\n",
      "for feature in features:\n",
      "    indices.append(str(feature['properties']['FIPS']))\n",
      "    values.append(feature['properties']['HR80'])"
     ],
     "language": "python",
     "metadata": {},
     "outputs": [],
     "prompt_number": 8
    },
    {
     "cell_type": "code",
     "collapsed": false,
     "input": [
      "df = pd.DataFrame({'HR80': values,\n",
      "                   'FIPS': indices} )"
     ],
     "language": "python",
     "metadata": {},
     "outputs": [],
     "prompt_number": 9
    },
    {
     "cell_type": "code",
     "collapsed": false,
     "input": [
      "\n",
      "map_osm = folium.Map(location=[33.7550, -84.3900], zoom_start=7,)\n",
      "map_osm.geo_json(geo_path='data/south.json',\n",
      "                 key_on='feature.properties.FIPS',\n",
      "                 data_out='data.json', data=df,\n",
      "                 columns=['FIPS','HR80'],\n",
      "                 fill_color='YlGn', fill_opacity=0.7,\n",
      "                 line_opacity=0.2,\n",
      "                 legend_name='Homicide Rate HR80')\n",
      "map_osm.create_map('homicide_1.html')"
     ],
     "language": "python",
     "metadata": {},
     "outputs": [],
     "prompt_number": 10
    },
    {
     "cell_type": "markdown",
     "metadata": {},
     "source": [
      "Open up this map to see a simple choropleth map of the homicide rates http://localhost:8015/homicide_1.html"
     ]
    },
    {
     "cell_type": "markdown",
     "metadata": {},
     "source": [
      "## Using PySAL Map Classification Schemes"
     ]
    },
    {
     "cell_type": "code",
     "collapsed": false,
     "input": [
      "y = np.array(df.HR80.tolist())"
     ],
     "language": "python",
     "metadata": {},
     "outputs": [],
     "prompt_number": 11
    },
    {
     "cell_type": "code",
     "collapsed": false,
     "input": [
      "import pysal as ps"
     ],
     "language": "python",
     "metadata": {},
     "outputs": [],
     "prompt_number": 12
    },
    {
     "cell_type": "markdown",
     "metadata": {},
     "source": [
      "### Maximum Breaks"
     ]
    },
    {
     "cell_type": "code",
     "collapsed": false,
     "input": [
      "max_breaks = ps.Maximum_Breaks(y, 5)"
     ],
     "language": "python",
     "metadata": {},
     "outputs": [],
     "prompt_number": 13
    },
    {
     "cell_type": "code",
     "collapsed": false,
     "input": [
      "bins = max_breaks.bins.tolist()"
     ],
     "language": "python",
     "metadata": {},
     "outputs": [],
     "prompt_number": 14
    },
    {
     "cell_type": "code",
     "collapsed": false,
     "input": [
      "\n",
      "map_osm = folium.Map(location=[33.7550, -84.3900], zoom_start=7,)\n",
      "map_osm.geo_json(geo_path='data/south.json',\n",
      "                 key_on='feature.properties.FIPS',\n",
      "                 data_out='data.json', data=df,\n",
      "                 columns=['FIPS','HR80'],\n",
      "                 fill_color='YlGn', fill_opacity=0.7,\n",
      "                 line_opacity=0.2,\n",
      "                 threshold_scale=bins[:-1],\n",
      "                 legend_name='Homicide Rate HR80 (Maximum Breaks)')\n",
      "map_osm.create_map('homicide_MB.html')"
     ],
     "language": "python",
     "metadata": {},
     "outputs": [],
     "prompt_number": 15
    },
    {
     "cell_type": "markdown",
     "metadata": {},
     "source": [
      "Open up this map to see a simple choropleth map of the homicide rates http://localhost:8015/homicide_MB.html"
     ]
    },
    {
     "cell_type": "markdown",
     "metadata": {},
     "source": [
      "### Quantiles"
     ]
    },
    {
     "cell_type": "code",
     "collapsed": false,
     "input": [
      "q5 = ps.Quantiles(y, 5).bins.tolist()"
     ],
     "language": "python",
     "metadata": {},
     "outputs": [],
     "prompt_number": 65
    },
    {
     "cell_type": "code",
     "collapsed": false,
     "input": [
      "\n",
      "map_osm = folium.Map(location=[33.7550, -84.3900], zoom_start=7,)\n",
      "map_osm.geo_json(geo_path='data/south.json',\n",
      "                 key_on='feature.properties.FIPS',\n",
      "                 data_out='data.json', data=df,\n",
      "                 columns=['FIPS','HR80'],\n",
      "                 fill_color='YlGn', fill_opacity=0.7,\n",
      "                 line_opacity=0.2,\n",
      "                 threshold_scale=q5[:-1],\n",
      "                 legend_name='Homicide Rate HR80 (Quintiles)')\n",
      "map_osm.create_map('homicide_q5.html')"
     ],
     "language": "python",
     "metadata": {},
     "outputs": [],
     "prompt_number": 66
    },
    {
     "cell_type": "markdown",
     "metadata": {},
     "source": [
      "http://localhost:8015/homicide_q5.html"
     ]
    },
    {
     "cell_type": "markdown",
     "metadata": {},
     "source": [
      "### Fisher-Jenks"
     ]
    },
    {
     "cell_type": "code",
     "collapsed": false,
     "input": [
      "fj= ps.Fisher_Jenks(y, 5).bins"
     ],
     "language": "python",
     "metadata": {},
     "outputs": [],
     "prompt_number": 67
    },
    {
     "cell_type": "code",
     "collapsed": false,
     "input": [
      "\n",
      "map_osm = folium.Map(location=[33.7550, -84.3900], zoom_start=7,)\n",
      "map_osm.geo_json(geo_path='data/south.json',\n",
      "                 key_on='feature.properties.FIPS',\n",
      "                 data_out='data.json', data=df,\n",
      "                 columns=['FIPS','HR80'],\n",
      "                 fill_color='YlGn', fill_opacity=0.7,\n",
      "                 line_opacity=0.2,\n",
      "                 threshold_scale=fj[:-1],\n",
      "                 legend_name='Homicide Rate HR80 (Fisher Jenks)')\n",
      "map_osm.create_map('homicide_fj.html')"
     ],
     "language": "python",
     "metadata": {},
     "outputs": [],
     "prompt_number": 68
    },
    {
     "cell_type": "markdown",
     "metadata": {},
     "source": [
      "http://localhost:8015/homicide_fj.html"
     ]
    },
    {
     "cell_type": "markdown",
     "metadata": {},
     "source": [
      "### Changing the zoom level"
     ]
    },
    {
     "cell_type": "code",
     "collapsed": false,
     "input": [
      "\n",
      "map_osm = folium.Map(location=[33.7550, -84.3900], zoom_start=5,)\n",
      "map_osm.geo_json(geo_path='data/south.json',\n",
      "                 key_on='feature.properties.FIPS',\n",
      "                 data_out='data.json', data=df,\n",
      "                 columns=['FIPS','HR80'],\n",
      "                 fill_color='YlGn', fill_opacity=0.7,\n",
      "                 line_opacity=0.2,\n",
      "                 threshold_scale=fj[:-1],\n",
      "                 legend_name='Homicide Rate HR80 (Fisher Jenks)')\n",
      "map_osm.create_map('homicide_fj.html')"
     ],
     "language": "python",
     "metadata": {},
     "outputs": [],
     "prompt_number": 70
    },
    {
     "cell_type": "markdown",
     "metadata": {},
     "source": [
      "http://localhost:8015/homicide_fj.html"
     ]
    },
    {
     "cell_type": "markdown",
     "metadata": {},
     "source": [
      "# Now in the Notebook"
     ]
    },
    {
     "cell_type": "markdown",
     "metadata": {},
     "source": [
      "## Prior to starting this notebook, issue the following at a shell:\n",
      "\n",
      "```\n",
      "python -m SimpleHTTPServer 8015 &ipython notebook --pylab=inline\n",
      "```"
     ]
    },
    {
     "cell_type": "code",
     "collapsed": false,
     "input": [
      "#Function that shows the map - call this functionto redraw the map.\n",
      "def showmap(name):\n",
      "    sint = str(random.randint(0,10000))\n",
      "    out_file = name+\"_\"+sint+\".html\"\n",
      "    map_osm.create_map(path=out_file)\n",
      "    iframe = \"<iframe src=http://localhost:8015/%s width=1000 height=500></iframe>\"%out_file\n",
      "    print iframe\n",
      "    return HTML(iframe)\n",
      "\n",
      "def resetmap():\n",
      "    return folium.Map(location=[40, -99], zoom_start=4)\n",
      "\n",
      "map_osm = resetmap()\n",
      "showmap('map_0')"
     ],
     "language": "python",
     "metadata": {},
     "outputs": [
      {
       "output_type": "stream",
       "stream": "stdout",
       "text": [
        "<iframe src=http://localhost:8015/map_0_5468.html width=1000 height=500></iframe>\n"
       ]
      },
      {
       "html": [
        "<iframe src=http://localhost:8015/map_0_5468.html width=1000 height=500></iframe>"
       ],
       "metadata": {},
       "output_type": "pyout",
       "prompt_number": 71,
       "text": [
        "<IPython.core.display.HTML at 0x10c8c9610>"
       ]
      }
     ],
     "prompt_number": 71
    },
    {
     "cell_type": "code",
     "collapsed": false,
     "input": [
      "fj= ps.Fisher_Jenks(y, 5).bins\n",
      "map_osm = folium.Map(location=[33.7550, -84.3900], zoom_start=5,)\n",
      "map_osm.geo_json(geo_path='data/south.json',\n",
      "                 key_on='feature.properties.FIPS',\n",
      "                 data_out='data.json', data=df,\n",
      "                 columns=['FIPS','HR80'],\n",
      "                 fill_color='YlGn', fill_opacity=0.7,\n",
      "                 line_opacity=0.2,\n",
      "                 threshold_scale=fj[:-1],\n",
      "                 legend_name='Homicide Rate HR80 (Fisher Jenks k=5)')\n",
      "showmap('test')"
     ],
     "language": "python",
     "metadata": {},
     "outputs": [
      {
       "output_type": "stream",
       "stream": "stdout",
       "text": [
        "<iframe src=http://localhost:8015/test_2116.html width=1000 height=500></iframe>\n"
       ]
      },
      {
       "html": [
        "<iframe src=http://localhost:8015/test_2116.html width=1000 height=500></iframe>"
       ],
       "metadata": {},
       "output_type": "pyout",
       "prompt_number": 72,
       "text": [
        "<IPython.core.display.HTML at 0x108449e10>"
       ]
      }
     ],
     "prompt_number": 72
    },
    {
     "cell_type": "code",
     "collapsed": false,
     "input": [
      "fj= ps.Fisher_Jenks(y, 6).bins\n",
      "map_osm = folium.Map(location=[33.7550, -84.3900], zoom_start=5,)\n",
      "map_osm.geo_json(geo_path='data/south.json',\n",
      "                 key_on='feature.properties.FIPS',\n",
      "                 data_out='data.json', data=df,\n",
      "                 columns=['FIPS','HR80'],\n",
      "                 fill_color='YlGn', fill_opacity=0.7,\n",
      "                 line_opacity=0.2,\n",
      "                 threshold_scale=fj[:-1],\n",
      "                 legend_name='Homicide Rate HR80 (Fisher Jenks k=6)')\n",
      "showmap('test')"
     ],
     "language": "python",
     "metadata": {},
     "outputs": [
      {
       "output_type": "stream",
       "stream": "stdout",
       "text": [
        "<iframe src=http://localhost:8015/test_5473.html width=1000 height=500></iframe>\n"
       ]
      },
      {
       "html": [
        "<iframe src=http://localhost:8015/test_5473.html width=1000 height=500></iframe>"
       ],
       "metadata": {},
       "output_type": "pyout",
       "prompt_number": 73,
       "text": [
        "<IPython.core.display.HTML at 0x10c8c1c10>"
       ]
      }
     ],
     "prompt_number": 73
    },
    {
     "cell_type": "code",
     "collapsed": false,
     "input": [],
     "language": "python",
     "metadata": {},
     "outputs": [],
     "prompt_number": 22
    },
    {
     "cell_type": "code",
     "collapsed": false,
     "input": [],
     "language": "python",
     "metadata": {},
     "outputs": []
    }
   ],
   "metadata": {}
  }
 ]
}